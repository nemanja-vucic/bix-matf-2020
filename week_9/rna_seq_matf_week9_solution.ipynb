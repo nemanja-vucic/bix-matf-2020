{
 "cells": [
  {
   "cell_type": "code",
   "execution_count": 1,
   "metadata": {},
   "outputs": [],
   "source": [
    "import pandas as pd"
   ]
  },
  {
   "cell_type": "code",
   "execution_count": 2,
   "metadata": {},
   "outputs": [],
   "source": [
    "df = pd.read_csv('counts.csv', index_col=0)"
   ]
  },
  {
   "cell_type": "code",
   "execution_count": 3,
   "metadata": {},
   "outputs": [
    {
     "data": {
      "text/html": [
       "<div>\n",
       "<style scoped>\n",
       "    .dataframe tbody tr th:only-of-type {\n",
       "        vertical-align: middle;\n",
       "    }\n",
       "\n",
       "    .dataframe tbody tr th {\n",
       "        vertical-align: top;\n",
       "    }\n",
       "\n",
       "    .dataframe thead th {\n",
       "        text-align: right;\n",
       "    }\n",
       "</style>\n",
       "<table border=\"1\" class=\"dataframe\">\n",
       "  <thead>\n",
       "    <tr style=\"text-align: right;\">\n",
       "      <th></th>\n",
       "      <th>Rep1 Counts</th>\n",
       "      <th>Rep2 Counts</th>\n",
       "      <th>Rep3 Counts</th>\n",
       "    </tr>\n",
       "    <tr>\n",
       "      <th>Gene Name</th>\n",
       "      <th></th>\n",
       "      <th></th>\n",
       "      <th></th>\n",
       "    </tr>\n",
       "  </thead>\n",
       "  <tbody>\n",
       "    <tr>\n",
       "      <th>A(2kb)</th>\n",
       "      <td>10</td>\n",
       "      <td>12</td>\n",
       "      <td>30</td>\n",
       "    </tr>\n",
       "    <tr>\n",
       "      <th>B(4kb)</th>\n",
       "      <td>20</td>\n",
       "      <td>25</td>\n",
       "      <td>60</td>\n",
       "    </tr>\n",
       "    <tr>\n",
       "      <th>C(1kb)</th>\n",
       "      <td>5</td>\n",
       "      <td>8</td>\n",
       "      <td>15</td>\n",
       "    </tr>\n",
       "    <tr>\n",
       "      <th>D(10kb)</th>\n",
       "      <td>0</td>\n",
       "      <td>0</td>\n",
       "      <td>1</td>\n",
       "    </tr>\n",
       "  </tbody>\n",
       "</table>\n",
       "</div>"
      ],
      "text/plain": [
       "           Rep1 Counts  Rep2 Counts  Rep3 Counts\n",
       "Gene Name                                       \n",
       "A(2kb)              10           12           30\n",
       "B(4kb)              20           25           60\n",
       "C(1kb)               5            8           15\n",
       "D(10kb)              0            0            1"
      ]
     },
     "execution_count": 3,
     "metadata": {},
     "output_type": "execute_result"
    }
   ],
   "source": [
    "df"
   ]
  },
  {
   "cell_type": "markdown",
   "metadata": {},
   "source": [
    "FPKM normalizacija\n",
    "\n",
    " - podeliti vrednosti broja read-ova sa desetim delom od ukupnog broja read-ova u uzorku (normalizacija za velicinu biblioteke).\n",
    " - dobijene vrednosti broja read-ova podeliti sa duzinom transkripata u kb (normalizacija za duzinu transkripta)."
   ]
  },
  {
   "cell_type": "code",
   "execution_count": 15,
   "metadata": {},
   "outputs": [
    {
     "data": {
      "text/html": [
       "<div>\n",
       "<style scoped>\n",
       "    .dataframe tbody tr th:only-of-type {\n",
       "        vertical-align: middle;\n",
       "    }\n",
       "\n",
       "    .dataframe tbody tr th {\n",
       "        vertical-align: top;\n",
       "    }\n",
       "\n",
       "    .dataframe thead th {\n",
       "        text-align: right;\n",
       "    }\n",
       "</style>\n",
       "<table border=\"1\" class=\"dataframe\">\n",
       "  <thead>\n",
       "    <tr style=\"text-align: right;\">\n",
       "      <th></th>\n",
       "      <th>Rep1 Counts</th>\n",
       "      <th>Rep2 Counts</th>\n",
       "      <th>Rep3 Counts</th>\n",
       "      <th>kb</th>\n",
       "    </tr>\n",
       "    <tr>\n",
       "      <th>Gene Name</th>\n",
       "      <th></th>\n",
       "      <th></th>\n",
       "      <th></th>\n",
       "      <th></th>\n",
       "    </tr>\n",
       "  </thead>\n",
       "  <tbody>\n",
       "    <tr>\n",
       "      <th>A(2kb)</th>\n",
       "      <td>2.86</td>\n",
       "      <td>2.67</td>\n",
       "      <td>2.83</td>\n",
       "      <td>1.18</td>\n",
       "    </tr>\n",
       "    <tr>\n",
       "      <th>B(4kb)</th>\n",
       "      <td>5.71</td>\n",
       "      <td>5.56</td>\n",
       "      <td>5.66</td>\n",
       "      <td>2.35</td>\n",
       "    </tr>\n",
       "    <tr>\n",
       "      <th>C(1kb)</th>\n",
       "      <td>1.43</td>\n",
       "      <td>1.78</td>\n",
       "      <td>1.42</td>\n",
       "      <td>0.59</td>\n",
       "    </tr>\n",
       "    <tr>\n",
       "      <th>D(10kb)</th>\n",
       "      <td>0.00</td>\n",
       "      <td>0.00</td>\n",
       "      <td>0.09</td>\n",
       "      <td>5.88</td>\n",
       "    </tr>\n",
       "  </tbody>\n",
       "</table>\n",
       "</div>"
      ],
      "text/plain": [
       "           Rep1 Counts  Rep2 Counts  Rep3 Counts    kb\n",
       "Gene Name                                             \n",
       "A(2kb)            2.86         2.67         2.83  1.18\n",
       "B(4kb)            5.71         5.56         5.66  2.35\n",
       "C(1kb)            1.43         1.78         1.42  0.59\n",
       "D(10kb)           0.00         0.00         0.09  5.88"
      ]
     },
     "execution_count": 15,
     "metadata": {},
     "output_type": "execute_result"
    }
   ],
   "source": [
    "# library size normalization (division by 10 instead of 10^6)\n",
    "df_fpkm = df.div(df.sum()/10).round(2)\n",
    "df_fpkm"
   ]
  },
  {
   "cell_type": "markdown",
   "metadata": {},
   "source": [
    "Now we need to scale per kb"
   ]
  },
  {
   "cell_type": "code",
   "execution_count": 16,
   "metadata": {},
   "outputs": [],
   "source": [
    "# save gene sizes in new column\n",
    "df_fpkm['kb'] = [2,4,1,10]"
   ]
  },
  {
   "cell_type": "code",
   "execution_count": 28,
   "metadata": {},
   "outputs": [
    {
     "data": {
      "text/html": [
       "<div>\n",
       "<style scoped>\n",
       "    .dataframe tbody tr th:only-of-type {\n",
       "        vertical-align: middle;\n",
       "    }\n",
       "\n",
       "    .dataframe tbody tr th {\n",
       "        vertical-align: top;\n",
       "    }\n",
       "\n",
       "    .dataframe thead th {\n",
       "        text-align: right;\n",
       "    }\n",
       "</style>\n",
       "<table border=\"1\" class=\"dataframe\">\n",
       "  <thead>\n",
       "    <tr style=\"text-align: right;\">\n",
       "      <th></th>\n",
       "      <th>Rep1 Counts</th>\n",
       "      <th>Rep2 Counts</th>\n",
       "      <th>Rep3 Counts</th>\n",
       "    </tr>\n",
       "    <tr>\n",
       "      <th>Gene Name</th>\n",
       "      <th></th>\n",
       "      <th></th>\n",
       "      <th></th>\n",
       "    </tr>\n",
       "  </thead>\n",
       "  <tbody>\n",
       "    <tr>\n",
       "      <th>A(2kb)</th>\n",
       "      <td>1.43</td>\n",
       "      <td>1.34</td>\n",
       "      <td>1.42</td>\n",
       "    </tr>\n",
       "    <tr>\n",
       "      <th>B(4kb)</th>\n",
       "      <td>1.43</td>\n",
       "      <td>1.39</td>\n",
       "      <td>1.42</td>\n",
       "    </tr>\n",
       "    <tr>\n",
       "      <th>C(1kb)</th>\n",
       "      <td>1.43</td>\n",
       "      <td>1.78</td>\n",
       "      <td>1.42</td>\n",
       "    </tr>\n",
       "    <tr>\n",
       "      <th>D(10kb)</th>\n",
       "      <td>0.00</td>\n",
       "      <td>0.00</td>\n",
       "      <td>0.01</td>\n",
       "    </tr>\n",
       "  </tbody>\n",
       "</table>\n",
       "</div>"
      ],
      "text/plain": [
       "           Rep1 Counts  Rep2 Counts  Rep3 Counts\n",
       "Gene Name                                       \n",
       "A(2kb)            1.43         1.34         1.42\n",
       "B(4kb)            1.43         1.39         1.42\n",
       "C(1kb)            1.43         1.78         1.42\n",
       "D(10kb)           0.00         0.00         0.01"
      ]
     },
     "execution_count": 28,
     "metadata": {},
     "output_type": "execute_result"
    }
   ],
   "source": [
    "# gene size normalization\n",
    "df_fpkm = df_fpkm.div(df_fpkm.kb, axis=0).round(2)\n",
    "df_fpkm.drop(['kb'], axis=1)"
   ]
  },
  {
   "cell_type": "code",
   "execution_count": 34,
   "metadata": {},
   "outputs": [
    {
     "data": {
      "text/plain": [
       "Rep1 Counts    4.29\n",
       "Rep2 Counts    4.51\n",
       "Rep3 Counts    4.27\n",
       "kb             4.00\n",
       "dtype: float64"
      ]
     },
     "execution_count": 34,
     "metadata": {},
     "output_type": "execute_result"
    }
   ],
   "source": [
    "# FPKM normalization sums per samples are not equal (samples are not comparable).\n",
    "df_fpkm.sum()"
   ]
  },
  {
   "cell_type": "markdown",
   "metadata": {},
   "source": [
    "TPM Normalizacija\n",
    "\n",
    " - podeliti vrednosti broja read-ova sa duzinom transkripata u kb (normalizacija za velicinu biblioteke).\n",
    " - dobijene vrednosti broja read-ova podeliti sa desetim delom od ukupnog broja read-ova u uzorku prethodno normalizovanih za velicinu biblioteke (normalizacija za duzinu transkripta).\n"
   ]
  },
  {
   "cell_type": "code",
   "execution_count": 35,
   "metadata": {},
   "outputs": [],
   "source": [
    "df_tpm = df\n",
    "# save gene sizes in new column\n",
    "df_tpm['kb'] = [2,4,1,10]"
   ]
  },
  {
   "cell_type": "code",
   "execution_count": 36,
   "metadata": {},
   "outputs": [
    {
     "data": {
      "text/html": [
       "<div>\n",
       "<style scoped>\n",
       "    .dataframe tbody tr th:only-of-type {\n",
       "        vertical-align: middle;\n",
       "    }\n",
       "\n",
       "    .dataframe tbody tr th {\n",
       "        vertical-align: top;\n",
       "    }\n",
       "\n",
       "    .dataframe thead th {\n",
       "        text-align: right;\n",
       "    }\n",
       "</style>\n",
       "<table border=\"1\" class=\"dataframe\">\n",
       "  <thead>\n",
       "    <tr style=\"text-align: right;\">\n",
       "      <th></th>\n",
       "      <th>Rep1 Counts</th>\n",
       "      <th>Rep2 Counts</th>\n",
       "      <th>Rep3 Counts</th>\n",
       "      <th>kb</th>\n",
       "    </tr>\n",
       "    <tr>\n",
       "      <th>Gene Name</th>\n",
       "      <th></th>\n",
       "      <th></th>\n",
       "      <th></th>\n",
       "      <th></th>\n",
       "    </tr>\n",
       "  </thead>\n",
       "  <tbody>\n",
       "    <tr>\n",
       "      <th>A(2kb)</th>\n",
       "      <td>5.0</td>\n",
       "      <td>6.00</td>\n",
       "      <td>15.0</td>\n",
       "      <td>1.0</td>\n",
       "    </tr>\n",
       "    <tr>\n",
       "      <th>B(4kb)</th>\n",
       "      <td>5.0</td>\n",
       "      <td>6.25</td>\n",
       "      <td>15.0</td>\n",
       "      <td>1.0</td>\n",
       "    </tr>\n",
       "    <tr>\n",
       "      <th>C(1kb)</th>\n",
       "      <td>5.0</td>\n",
       "      <td>8.00</td>\n",
       "      <td>15.0</td>\n",
       "      <td>1.0</td>\n",
       "    </tr>\n",
       "    <tr>\n",
       "      <th>D(10kb)</th>\n",
       "      <td>0.0</td>\n",
       "      <td>0.00</td>\n",
       "      <td>0.1</td>\n",
       "      <td>1.0</td>\n",
       "    </tr>\n",
       "  </tbody>\n",
       "</table>\n",
       "</div>"
      ],
      "text/plain": [
       "           Rep1 Counts  Rep2 Counts  Rep3 Counts   kb\n",
       "Gene Name                                            \n",
       "A(2kb)             5.0         6.00         15.0  1.0\n",
       "B(4kb)             5.0         6.25         15.0  1.0\n",
       "C(1kb)             5.0         8.00         15.0  1.0\n",
       "D(10kb)            0.0         0.00          0.1  1.0"
      ]
     },
     "execution_count": 36,
     "metadata": {},
     "output_type": "execute_result"
    }
   ],
   "source": [
    "# gene size normalization is performed first\n",
    "df_tpm = df_tpm.div(df_tpm.kb, axis=0).round(2)\n",
    "df_tpm"
   ]
  },
  {
   "cell_type": "code",
   "execution_count": 37,
   "metadata": {},
   "outputs": [
    {
     "data": {
      "text/html": [
       "<div>\n",
       "<style scoped>\n",
       "    .dataframe tbody tr th:only-of-type {\n",
       "        vertical-align: middle;\n",
       "    }\n",
       "\n",
       "    .dataframe tbody tr th {\n",
       "        vertical-align: top;\n",
       "    }\n",
       "\n",
       "    .dataframe thead th {\n",
       "        text-align: right;\n",
       "    }\n",
       "</style>\n",
       "<table border=\"1\" class=\"dataframe\">\n",
       "  <thead>\n",
       "    <tr style=\"text-align: right;\">\n",
       "      <th></th>\n",
       "      <th>Rep1 Counts</th>\n",
       "      <th>Rep2 Counts</th>\n",
       "      <th>Rep3 Counts</th>\n",
       "    </tr>\n",
       "    <tr>\n",
       "      <th>Gene Name</th>\n",
       "      <th></th>\n",
       "      <th></th>\n",
       "      <th></th>\n",
       "    </tr>\n",
       "  </thead>\n",
       "  <tbody>\n",
       "    <tr>\n",
       "      <th>A(2kb)</th>\n",
       "      <td>3.333</td>\n",
       "      <td>2.963</td>\n",
       "      <td>3.326</td>\n",
       "    </tr>\n",
       "    <tr>\n",
       "      <th>B(4kb)</th>\n",
       "      <td>3.333</td>\n",
       "      <td>3.086</td>\n",
       "      <td>3.326</td>\n",
       "    </tr>\n",
       "    <tr>\n",
       "      <th>C(1kb)</th>\n",
       "      <td>3.333</td>\n",
       "      <td>3.951</td>\n",
       "      <td>3.326</td>\n",
       "    </tr>\n",
       "    <tr>\n",
       "      <th>D(10kb)</th>\n",
       "      <td>0.000</td>\n",
       "      <td>0.000</td>\n",
       "      <td>0.022</td>\n",
       "    </tr>\n",
       "  </tbody>\n",
       "</table>\n",
       "</div>"
      ],
      "text/plain": [
       "           Rep1 Counts  Rep2 Counts  Rep3 Counts\n",
       "Gene Name                                       \n",
       "A(2kb)           3.333        2.963        3.326\n",
       "B(4kb)           3.333        3.086        3.326\n",
       "C(1kb)           3.333        3.951        3.326\n",
       "D(10kb)          0.000        0.000        0.022"
      ]
     },
     "execution_count": 37,
     "metadata": {},
     "output_type": "execute_result"
    }
   ],
   "source": [
    "# library size normalization (division by 10 instead of 10^6)\n",
    "df_tpm = df_tpm.div(df_tpm.sum()/10).round(3)\n",
    "df_tpm.drop(['kb'], axis=1)"
   ]
  },
  {
   "cell_type": "code",
   "execution_count": 38,
   "metadata": {},
   "outputs": [
    {
     "data": {
      "text/plain": [
       "Rep1 Counts     9.999\n",
       "Rep2 Counts    10.000\n",
       "Rep3 Counts    10.000\n",
       "kb             10.000\n",
       "dtype: float64"
      ]
     },
     "execution_count": 38,
     "metadata": {},
     "output_type": "execute_result"
    }
   ],
   "source": [
    "# TPM normalization sums per samples are equal (samples are comparable).\n",
    "df_tpm.sum()"
   ]
  }
 ],
 "metadata": {
  "kernelspec": {
   "display_name": "Python 3",
   "language": "python",
   "name": "python3"
  },
  "language_info": {
   "codemirror_mode": {
    "name": "ipython",
    "version": 3
   },
   "file_extension": ".py",
   "mimetype": "text/x-python",
   "name": "python",
   "nbconvert_exporter": "python",
   "pygments_lexer": "ipython3",
   "version": "3.7.3"
  }
 },
 "nbformat": 4,
 "nbformat_minor": 2
}
