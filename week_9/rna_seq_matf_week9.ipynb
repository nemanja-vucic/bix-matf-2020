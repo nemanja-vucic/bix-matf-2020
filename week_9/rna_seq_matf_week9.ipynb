{
 "cells": [
  {
   "cell_type": "code",
   "execution_count": null,
   "metadata": {},
   "outputs": [],
   "source": [
    "import pandas as pd"
   ]
  },
  {
   "cell_type": "code",
   "execution_count": null,
   "metadata": {},
   "outputs": [],
   "source": [
    "df = pd.read_csv('counts.csv', index_col=0)"
   ]
  },
  {
   "cell_type": "code",
   "execution_count": null,
   "metadata": {},
   "outputs": [],
   "source": [
    "df"
   ]
  },
  {
   "cell_type": "markdown",
   "metadata": {},
   "source": [
    "FPKM normalizacija\n",
    "\n",
    " - podeliti vrednosti broja read-ova sa desetim delom od ukupnog broja read-ova u uzorku (normalizacija za velicinu biblioteke).\n",
    " - dobijene vrednosti broja read-ova podeliti sa duzinom transkripata u kb (normalizacija za duzinu transkripta)."
   ]
  },
  {
   "cell_type": "code",
   "execution_count": null,
   "metadata": {},
   "outputs": [],
   "source": [
    "# library size normalization (division by 10 instead of 10^6)\n",
    "df_fpkm = ...\n",
    "df_fpkm"
   ]
  },
  {
   "cell_type": "markdown",
   "metadata": {},
   "source": [
    "Now we need to scale per kb"
   ]
  },
  {
   "cell_type": "code",
   "execution_count": null,
   "metadata": {},
   "outputs": [],
   "source": [
    "# save gene sizes in new column\n",
    "df_fpkm['kb'] = [2,4,1,10]"
   ]
  },
  {
   "cell_type": "code",
   "execution_count": null,
   "metadata": {},
   "outputs": [],
   "source": [
    "# gene size normalization\n",
    "df_fpkm = ...\n",
    "df_fpkm"
   ]
  },
  {
   "cell_type": "code",
   "execution_count": null,
   "metadata": {},
   "outputs": [],
   "source": [
    "# FPKM normalization sums per samples are not equal (samples are not comparable).\n",
    "df_fpkm.sum()"
   ]
  },
  {
   "cell_type": "markdown",
   "metadata": {},
   "source": [
    "TPM Normalizacija\n",
    "\n",
    " - podeliti vrednosti broja read-ova sa duzinom transkripata u kb (normalizacija za velicinu biblioteke).\n",
    " - dobijene vrednosti broja read-ova podeliti sa desetim delom od ukupnog broja read-ova u uzorku prethodno normalizovanih za velicinu biblioteke (normalizacija za duzinu transkripta).\n"
   ]
  },
  {
   "cell_type": "code",
   "execution_count": null,
   "metadata": {},
   "outputs": [],
   "source": [
    "df_tpm = df\n",
    "# save gene sizes in new column\n",
    "df_tpm['kb'] = [2,4,1,10]"
   ]
  },
  {
   "cell_type": "code",
   "execution_count": null,
   "metadata": {},
   "outputs": [],
   "source": [
    "# gene size normalization is performed first\n",
    "df_tpm = ...\n",
    "df_tpm"
   ]
  },
  {
   "cell_type": "code",
   "execution_count": null,
   "metadata": {},
   "outputs": [],
   "source": [
    "# library size normalization (division by 10 instead of 10^6)\n",
    "df_tpm = ...\n",
    "df_tpm"
   ]
  },
  {
   "cell_type": "code",
   "execution_count": null,
   "metadata": {},
   "outputs": [],
   "source": [
    "# TPM normalization sums per samples are equal (samples are comparable).\n",
    "df_tpm.sum()"
   ]
  }
 ],
 "metadata": {
  "kernelspec": {
   "display_name": "Python 3",
   "language": "python",
   "name": "python3"
  },
  "language_info": {
   "codemirror_mode": {
    "name": "ipython",
    "version": 3
   },
   "file_extension": ".py",
   "mimetype": "text/x-python",
   "name": "python",
   "nbconvert_exporter": "python",
   "pygments_lexer": "ipython3",
   "version": "3.7.3"
  }
 },
 "nbformat": 4,
 "nbformat_minor": 2
}
