{
 "cells": [
  {
   "cell_type": "code",
   "execution_count": 1,
   "metadata": {},
   "outputs": [],
   "source": [
    "import pysam\n",
    "import pandas as pd"
   ]
  },
  {
   "cell_type": "markdown",
   "metadata": {},
   "source": [
    "Zadatak 1. Koliko egzona poseduje gen FKBP1A?\n",
    "    - ucitati chr20.sorted.gtf.gz fajl\n",
    "    - koristiti pysam biblioteku za parsiranje GTF fajla\n",
    "    - identifikovati i prebrojati sve egzone gena FKBP1A"
   ]
  },
  {
   "cell_type": "code",
   "execution_count": 6,
   "metadata": {},
   "outputs": [
    {
     "name": "stdout",
     "output_type": "stream",
     "text": [
      "20\tensembl_havana\texon\t1368978\t1370072\t.\t-\t.\tgene_id \"ENSG00000088832\"; gene_version \"16\"; transcript_id \"ENST00000400137\"; transcript_version \"8\"; exon_number \"5\"; gene_name \"FKBP1A\"; gene_source \"ensembl_havana\"; gene_biotype \"protein_coding\"; transcript_name \"FKBP1A-204\"; transcript_source \"ensembl_havana\"; transcript_biotype \"protein_coding\"; tag \"CCDS\"; ccds_id \"CCDS13014\"; exon_id \"ENSE00001872186\"; exon_version \"1\"; tag \"basic\"; transcript_support_level \"1\";\n"
     ]
    }
   ],
   "source": [
    "# Ucitavanje i parsiranje GTF fajla, za detaljnije objasnjenje opcija pogledati https://pysam.readthedocs.io/en/latest/api.html\n",
    "gtf_ile = pysam.TabixFile('/sbgenomics/project-files/chr20.sorted.gtf.gz')\n",
    "for gtf in gtf_ile.fetch(\"20\", parser=pysam.asGTF()):\n",
    "    if gtf.gene_name == \"FKBP1A\" and gtf.feature == \"exon\":\n",
    "        print(gtf)\n",
    "        break"
   ]
  },
  {
   "cell_type": "markdown",
   "metadata": {},
   "source": [
    "' "
   ]
  },
  {
   "cell_type": "markdown",
   "metadata": {},
   "source": [
    "Zadatak 2. Odrediti proteinsku sekvencu na osnovu jednog od transkripata gena FKBP1A? \n",
    "    - identifikovati kodirajuce sekvence transkripta ENST00000618612\n",
    "    - ucitati referentni genom\n",
    "    - na osnovu start, stop kodona i CCDS formitrati DNA sekvencu\n",
    "    - napraviti reverzni komplement ove sekvence (pomocu f-je)\n",
    "    - napraviti protein na osnovu reverzno kompl. sekvence koristeci mapu kodona (pomocu f-je)"
   ]
  },
  {
   "cell_type": "code",
   "execution_count": null,
   "metadata": {},
   "outputs": [],
   "source": [
    "#Mapa kodona \n",
    "codon_map = {\"UUU\":\"F\", \"UUC\":\"F\", \"UUA\":\"L\", \"UUG\":\"L\",\n",
    "    \"UCU\":\"S\", \"UCC\":\"S\", \"UCA\":\"S\", \"UCG\":\"S\",\n",
    "    \"UAU\":\"Y\", \"UAC\":\"Y\", \"UAA\":\"STOP\", \"UAG\":\"STOP\",\n",
    "    \"UGU\":\"C\", \"UGC\":\"C\", \"UGA\":\"STOP\", \"UGG\":\"W\",\n",
    "    \"CUU\":\"L\", \"CUC\":\"L\", \"CUA\":\"L\", \"CUG\":\"L\",\n",
    "    \"CCU\":\"P\", \"CCC\":\"P\", \"CCA\":\"P\", \"CCG\":\"P\",\n",
    "    \"CAU\":\"H\", \"CAC\":\"H\", \"CAA\":\"Q\", \"CAG\":\"Q\",\n",
    "    \"CGU\":\"R\", \"CGC\":\"R\", \"CGA\":\"R\", \"CGG\":\"R\",\n",
    "    \"AUU\":\"I\", \"AUC\":\"I\", \"AUA\":\"I\", \"AUG\":\"M\",\n",
    "    \"ACU\":\"T\", \"ACC\":\"T\", \"ACA\":\"T\", \"ACG\":\"T\",\n",
    "    \"AAU\":\"N\", \"AAC\":\"N\", \"AAA\":\"K\", \"AAG\":\"K\",\n",
    "    \"AGU\":\"S\", \"AGC\":\"S\", \"AGA\":\"R\", \"AGG\":\"R\",\n",
    "    \"GUU\":\"V\", \"GUC\":\"V\", \"GUA\":\"V\", \"GUG\":\"V\",\n",
    "    \"GCU\":\"A\", \"GCC\":\"A\", \"GCA\":\"A\", \"GCG\":\"A\",\n",
    "    \"GAU\":\"D\", \"GAC\":\"D\", \"GAA\":\"E\", \"GAG\":\"E\",\n",
    "    \"GGU\":\"G\", \"GGC\":\"G\", \"GGA\":\"G\", \"GGG\":\"G\",}"
   ]
  },
  {
   "cell_type": "code",
   "execution_count": null,
   "metadata": {},
   "outputs": [],
   "source": [
    "#Napraviti funkciju koja DNK sekvencu kovertuje u revezno komplementarnu RNK sekvencu\n",
    "def revc(dna):\n",
    "    \"\"\"Reverse complement a DNA sequence.\"\"\"\n",
    "    revc = dna[::-1].translate(str.maketrans('ACGT','UGCA'))\n",
    "    return(revc)"
   ]
  },
  {
   "cell_type": "code",
   "execution_count": null,
   "metadata": {},
   "outputs": [],
   "source": [
    "#Kreirati funkciju koja izvrsava translaciju RNA sekvence\n",
    "def rna2prot_single(seq):\n",
    "    protein = ''\n",
    "    i = 0\n",
    "    protein1 = ''\n",
    "    while i <= len(seq)-3:\n",
    "            protein1 += codon_map[seq[i:i+3]]\n",
    "            i += 3\n",
    "    return protein1 "
   ]
  },
  {
   "cell_type": "code",
   "execution_count": null,
   "metadata": {},
   "outputs": [],
   "source": [
    "#Ucitavanje i parsiranje FASTA fajla, za detaljnije objasnjenje opcija pogledati https://pysam.readthedocs.io/en/latest/api.html\n",
    "chr20_fasta = pysam.FastaFile('/sbgenomics/project-files/chr20.fasta')\n",
    "chr20_fasta.fetch('20', start, end)"
   ]
  },
  {
   "cell_type": "markdown",
   "metadata": {},
   "source": [
    "'"
   ]
  },
  {
   "cell_type": "code",
   "execution_count": null,
   "metadata": {},
   "outputs": [],
   "source": []
  }
 ],
 "metadata": {
  "kernelspec": {
   "display_name": "Python 3",
   "language": "python",
   "name": "python3"
  },
  "language_info": {
   "codemirror_mode": {
    "name": "ipython",
    "version": 3
   },
   "file_extension": ".py",
   "mimetype": "text/x-python",
   "name": "python",
   "nbconvert_exporter": "python",
   "pygments_lexer": "ipython3",
   "version": "3.6.3"
  }
 },
 "nbformat": 4,
 "nbformat_minor": 2
}
