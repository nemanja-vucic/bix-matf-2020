{
 "cells": [
  {
   "cell_type": "code",
   "execution_count": null,
   "metadata": {},
   "outputs": [],
   "source": [
    "import pysam\n",
    "import pandas as pd"
   ]
  },
  {
   "cell_type": "code",
   "execution_count": 4,
   "metadata": {},
   "outputs": [],
   "source": [
    "gtf_ile = pysam.TabixFile('/sbgenomics/project-files/chr20.sorted.gtf.gz')"
   ]
  },
  {
   "cell_type": "code",
   "execution_count": 5,
   "metadata": {},
   "outputs": [],
   "source": [
    "#Collect all records of FKBP1A gene?\n",
    "FKBP1A = []\n",
    "for gtf in gtf_ile.fetch(\"20\", parser=pysam.asGTF()):\n",
    "    if gtf.gene_name == 'FKBP1A':\n",
    "        FKBP1A.append(gtf)"
   ]
  },
  {
   "cell_type": "code",
   "execution_count": 6,
   "metadata": {},
   "outputs": [],
   "source": [
    "#Collect all exone IDs of FKBP1A exones?\n",
    "exon_ids = []\n",
    "for gtf in FKBP1A:\n",
    "    if gtf.feature == 'exon':\n",
    "        exon_ids.append(gtf.exon_id)"
   ]
  },
  {
   "cell_type": "code",
   "execution_count": 7,
   "metadata": {},
   "outputs": [
    {
     "data": {
      "text/plain": [
       "30"
      ]
     },
     "execution_count": 7,
     "metadata": {},
     "output_type": "execute_result"
    }
   ],
   "source": [
    "#Count the exones with unique IDs\n",
    "len(set(exon_ids))"
   ]
  },
  {
   "cell_type": "code",
   "execution_count": 17,
   "metadata": {},
   "outputs": [],
   "source": [
    "df_list = []\n",
    "for gtf in gtf_ile.fetch(\"20\", parser=pysam.asGTF()):\n",
    "    if (gtf.feature == 'start_codon' or gtf.feature == 'CDS' or gtf.feature == 'stop_codon') and gtf.transcript_id == 'ENSE00001872186':\n",
    "        print()\n",
    "        df_list.append({'transcript_id': gtf.transcript_id, 'feature': gtf.feature, \n",
    "                        'start': gtf.start, 'end': gtf.end})"
   ]
  },
  {
   "cell_type": "code",
   "execution_count": 15,
   "metadata": {},
   "outputs": [
    {
     "ename": "AttributeError",
     "evalue": "'GTFProxy' has no attribute 'transcript_id'",
     "output_type": "error",
     "traceback": [
      "\u001b[0;31m---------------------------------------------------------------------------\u001b[0m",
      "\u001b[0;31mAttributeError\u001b[0m                            Traceback (most recent call last)",
      "\u001b[0;32m<ipython-input-15-6685bca469e3>\u001b[0m in \u001b[0;36m<module>\u001b[0;34m()\u001b[0m\n\u001b[1;32m      1\u001b[0m \u001b[0;32mfor\u001b[0m \u001b[0mgtf\u001b[0m \u001b[0;32min\u001b[0m \u001b[0mFKBP1A\u001b[0m\u001b[0;34m:\u001b[0m\u001b[0;34m\u001b[0m\u001b[0m\n\u001b[0;32m----> 2\u001b[0;31m     \u001b[0;32mif\u001b[0m \u001b[0mgtf\u001b[0m\u001b[0;34m.\u001b[0m\u001b[0mtranscript_id\u001b[0m \u001b[0;34m==\u001b[0m \u001b[0;34m'ENSE00001872186'\u001b[0m\u001b[0;34m:\u001b[0m\u001b[0;34m\u001b[0m\u001b[0m\n\u001b[0m\u001b[1;32m      3\u001b[0m         print({'transcript_id': gtf.transcript_id, 'feature': gtf.feature, \n\u001b[1;32m      4\u001b[0m                         'start': gtf.start, 'end': gtf.end})\n",
      "\u001b[0;32mpysam/libctabixproxies.pyx\u001b[0m in \u001b[0;36mpysam.libctabixproxies.GTFProxy.__getattr__ (pysam/libctabixproxies.c:10893)\u001b[0;34m()\u001b[0m\n",
      "\u001b[0;31mAttributeError\u001b[0m: 'GTFProxy' has no attribute 'transcript_id'"
     ]
    }
   ],
   "source": [
    "for gtf in FKBP1A:\n",
    "    if (gtf.feature == 'start_codon' or gtf.feature == 'CDS' or gtf.feature == 'stop_codon' and gtf.transcript_id == 'ENSE00001872186':\n",
    "        print({'transcript_id': gtf.transcript_id, 'feature': gtf.feature, \n",
    "                        'start': gtf.start, 'end': gtf.end})"
   ]
  },
  {
   "cell_type": "code",
   "execution_count": 9,
   "metadata": {},
   "outputs": [],
   "source": [
    "df = pd.DataFrame(df_list, columns= ['transcript_id', 'feature', 'start', 'end'])"
   ]
  },
  {
   "cell_type": "code",
   "execution_count": 10,
   "metadata": {},
   "outputs": [],
   "source": [
    "df_ENST00000618612 = df[df['transcript_id'] == 'ENST00000618612'].sort_values(by=['transcript_id', \n",
    "                                                                                  'start'], ascending=False)"
   ]
  },
  {
   "cell_type": "code",
   "execution_count": null,
   "metadata": {},
   "outputs": [],
   "source": [
    "df_ENST00000618612"
   ]
  },
  {
   "cell_type": "code",
   "execution_count": null,
   "metadata": {},
   "outputs": [],
   "source": [
    "start = []\n",
    "end = []\n",
    "for index, row in df_ENST00000618612.iterrows():\n",
    "    if row['feature'] == 'CDS':\n",
    "        start.append(row['start'])\n",
    "        end.append(row['end'])"
   ]
  },
  {
   "cell_type": "code",
   "execution_count": null,
   "metadata": {},
   "outputs": [],
   "source": [
    "start, end"
   ]
  },
  {
   "cell_type": "code",
   "execution_count": null,
   "metadata": {},
   "outputs": [],
   "source": [
    "# reading human chr20 fasta\n",
    "chr20_fasta = pysam.FastaFile('/Users/nemanjavucic/Desktop/matf-rna-seq-1/chr20.fasta')"
   ]
  },
  {
   "cell_type": "code",
   "execution_count": null,
   "metadata": {},
   "outputs": [],
   "source": [
    "# function that returns a reverse complement of the given sequence\n",
    "def revc(dna):\n",
    "    \"\"\"Reverse complement a DNA sequence.\"\"\"\n",
    "    revc = dna[::-1].translate(str.maketrans('ACGT','UGCA'))\n",
    "    return(revc)"
   ]
  },
  {
   "cell_type": "code",
   "execution_count": null,
   "metadata": {},
   "outputs": [],
   "source": [
    "def rna2prot_single(seq):\n",
    "    protein = ''\n",
    "    i = 0\n",
    "    protein1 = ''\n",
    "    while i <= len(seq)-3:\n",
    "            protein1 += codon_map[seq[i:i+3]]\n",
    "            i += 3\n",
    "    return protein1 "
   ]
  },
  {
   "cell_type": "code",
   "execution_count": null,
   "metadata": {},
   "outputs": [],
   "source": [
    "# codon map for translation\n",
    "codon_map = {\"UUU\":\"F\", \"UUC\":\"F\", \"UUA\":\"L\", \"UUG\":\"L\",\n",
    "    \"UCU\":\"S\", \"UCC\":\"S\", \"UCA\":\"S\", \"UCG\":\"S\",\n",
    "    \"UAU\":\"Y\", \"UAC\":\"Y\", \"UAA\":\"STOP\", \"UAG\":\"STOP\",\n",
    "    \"UGU\":\"C\", \"UGC\":\"C\", \"UGA\":\"STOP\", \"UGG\":\"W\",\n",
    "    \"CUU\":\"L\", \"CUC\":\"L\", \"CUA\":\"L\", \"CUG\":\"L\",\n",
    "    \"CCU\":\"P\", \"CCC\":\"P\", \"CCA\":\"P\", \"CCG\":\"P\",\n",
    "    \"CAU\":\"H\", \"CAC\":\"H\", \"CAA\":\"Q\", \"CAG\":\"Q\",\n",
    "    \"CGU\":\"R\", \"CGC\":\"R\", \"CGA\":\"R\", \"CGG\":\"R\",\n",
    "    \"AUU\":\"I\", \"AUC\":\"I\", \"AUA\":\"I\", \"AUG\":\"M\",\n",
    "    \"ACU\":\"T\", \"ACC\":\"T\", \"ACA\":\"T\", \"ACG\":\"T\",\n",
    "    \"AAU\":\"N\", \"AAC\":\"N\", \"AAA\":\"K\", \"AAG\":\"K\",\n",
    "    \"AGU\":\"S\", \"AGC\":\"S\", \"AGA\":\"R\", \"AGG\":\"R\",\n",
    "    \"GUU\":\"V\", \"GUC\":\"V\", \"GUA\":\"V\", \"GUG\":\"V\",\n",
    "    \"GCU\":\"A\", \"GCC\":\"A\", \"GCA\":\"A\", \"GCG\":\"A\",\n",
    "    \"GAU\":\"D\", \"GAC\":\"D\", \"GAA\":\"E\", \"GAG\":\"E\",\n",
    "    \"GGU\":\"G\", \"GGC\":\"G\", \"GGA\":\"G\", \"GGG\":\"G\",}"
   ]
  },
  {
   "cell_type": "code",
   "execution_count": null,
   "metadata": {},
   "outputs": [],
   "source": [
    "peptides = []\n",
    "for i in range(len(start)):\n",
    "    peptides.append(rna2prot_single(revc(chr20_fasta.fetch('20', start[i], end[i]))))"
   ]
  },
  {
   "cell_type": "code",
   "execution_count": null,
   "metadata": {},
   "outputs": [],
   "source": [
    "''.join(peptides)"
   ]
  },
  {
   "cell_type": "code",
   "execution_count": null,
   "metadata": {},
   "outputs": [],
   "source": [
    "#load BAM file"
   ]
  },
  {
   "cell_type": "code",
   "execution_count": null,
   "metadata": {},
   "outputs": [],
   "source": [
    "rna_bam = pysam.AlignmentFile(\"/Users/nemanjavucic/Downloads/chr20.twopass-basic.Aligned.sorted.bam\")\n",
    "for read in rna_bam.fetch():\n",
    "    if 'M' in str(read.cigarstring) and 'N' in str(read.cigarstring):\n",
    "        print(read)\n",
    "        break"
   ]
  }
 ],
 "metadata": {
  "kernelspec": {
   "display_name": "Python 3",
   "language": "python",
   "name": "python3"
  },
  "language_info": {
   "codemirror_mode": {
    "name": "ipython",
    "version": 3
   },
   "file_extension": ".py",
   "mimetype": "text/x-python",
   "name": "python",
   "nbconvert_exporter": "python",
   "pygments_lexer": "ipython3",
   "version": "3.6.3"
  }
 },
 "nbformat": 4,
 "nbformat_minor": 2
}
