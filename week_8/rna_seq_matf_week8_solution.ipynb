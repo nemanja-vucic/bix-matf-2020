{
 "cells": [
  {
   "cell_type": "code",
   "execution_count": 1,
   "metadata": {},
   "outputs": [],
   "source": [
    "import pysam\n",
    "import pandas as pd"
   ]
  },
  {
   "cell_type": "markdown",
   "metadata": {},
   "source": [
    "### Zadatak 1. Koliko egzona poseduje gen FKBP1A?"
   ]
  },
  {
   "cell_type": "markdown",
   "metadata": {},
   "source": [
    " - ucitati chr20.sorted.gtf.gz fajl koristeci f-ju *TabixFile* iz biblioteke pysam"
   ]
  },
  {
   "cell_type": "code",
   "execution_count": null,
   "metadata": {},
   "outputs": [],
   "source": [
    "gtf_file = pysam.TabixFile('/sbgenomics/project-files/chr20.sorted.gtf.gz')"
   ]
  },
  {
   "cell_type": "markdown",
   "metadata": {},
   "source": [
    " - koristeci f-ju *fetch* dohvatiti sve linije iz GTF fajla koje sadrze ime gena *FKBP1A*"
   ]
  },
  {
   "cell_type": "code",
   "execution_count": 3,
   "metadata": {},
   "outputs": [],
   "source": [
    "# collect all records of FKBP1A gene?\n",
    "FKBP1A = []\n",
    "for gtf in gtf_file.fetch(\"20\", parser=pysam.asGTF()):\n",
    "    if gtf.gene_name == 'FKBP1A':\n",
    "        FKBP1A.append(gtf)"
   ]
  },
  {
   "cell_type": "markdown",
   "metadata": {},
   "source": [
    " - dohvatiti samo one linije iz GTF fajla koje sadrze informacije o egzonima gena *FKBP1A*"
   ]
  },
  {
   "cell_type": "code",
   "execution_count": 4,
   "metadata": {},
   "outputs": [],
   "source": [
    "# collect all exone IDs of FKBP1A exones?\n",
    "exon_ids = []\n",
    "for gtf in FKBP1A:\n",
    "    if gtf.feature == 'exon':\n",
    "        exon_ids.append(gtf.exon_id)"
   ]
  },
  {
   "cell_type": "markdown",
   "metadata": {},
   "source": [
    " - prebrojati jedinstvene egzone gena *FKBP1A*"
   ]
  },
  {
   "cell_type": "code",
   "execution_count": 5,
   "metadata": {},
   "outputs": [
    {
     "data": {
      "text/plain": [
       "30"
      ]
     },
     "execution_count": 5,
     "metadata": {},
     "output_type": "execute_result"
    }
   ],
   "source": [
    "# count the exones with unique IDs\n",
    "len(set(exon_ids))"
   ]
  },
  {
   "cell_type": "markdown",
   "metadata": {},
   "source": [
    "### Zadatak 2. Odrediti proteinsku sekvencu transkripta ENST00000618612 gena FKBP1A?"
   ]
  },
  {
   "cell_type": "markdown",
   "metadata": {},
   "source": [
    " - koristeci f-ju *fetch* dohvatiti linije iz GTF fajla koje sadrze ime transkripta ENST00000618612. Dodatno, izabrati samo one linije koje sadrze informaciju o start kodonu (*start_codon*), stop kodonu (*stop_codon*) i kodirajucim sekvencama (*CDS*)."
   ]
  },
  {
   "cell_type": "code",
   "execution_count": 6,
   "metadata": {},
   "outputs": [],
   "source": [
    "df_list = []\n",
    "for gtf in gtf_file.fetch(\"20\", parser=pysam.asGTF()):\n",
    "    if (gtf.feature == 'start_codon' or gtf.feature == 'CDS' or gtf.feature == 'stop_codon') and gtf.transcript_id == 'ENST00000618612':\n",
    "        df_list.append({'transcript_id': gtf.transcript_id, 'feature': gtf.feature, \n",
    "                        'start': gtf.start, 'end': gtf.end})"
   ]
  },
  {
   "cell_type": "code",
   "execution_count": 7,
   "metadata": {},
   "outputs": [
    {
     "data": {
      "text/plain": [
       "[{'transcript_id': 'ENST00000618612',\n",
       "  'feature': 'stop_codon',\n",
       "  'start': 1370028,\n",
       "  'end': 1370031},\n",
       " {'transcript_id': 'ENST00000618612',\n",
       "  'feature': 'CDS',\n",
       "  'start': 1370031,\n",
       "  'end': 1370072},\n",
       " {'transcript_id': 'ENST00000618612',\n",
       "  'feature': 'CDS',\n",
       "  'start': 1372075,\n",
       "  'end': 1372240},\n",
       " {'transcript_id': 'ENST00000618612',\n",
       "  'feature': 'CDS',\n",
       "  'start': 1392833,\n",
       "  'end': 1392881},\n",
       " {'transcript_id': 'ENST00000618612',\n",
       "  'feature': 'CDS',\n",
       "  'start': 1392961,\n",
       "  'end': 1392998},\n",
       " {'transcript_id': 'ENST00000618612',\n",
       "  'feature': 'start_codon',\n",
       "  'start': 1392995,\n",
       "  'end': 1392998}]"
      ]
     },
     "execution_count": 7,
     "metadata": {},
     "output_type": "execute_result"
    }
   ],
   "source": [
    "df_list"
   ]
  },
  {
   "cell_type": "markdown",
   "metadata": {},
   "source": [
    " - upisati informacije o transkriptu ENST00000618612 u DataFrame"
   ]
  },
  {
   "cell_type": "code",
   "execution_count": 8,
   "metadata": {},
   "outputs": [],
   "source": [
    "df = pd.DataFrame(df_list, columns= ['transcript_id', 'feature', 'start', 'end'])"
   ]
  },
  {
   "cell_type": "code",
   "execution_count": 9,
   "metadata": {},
   "outputs": [],
   "source": [
    "df_ENST00000618612 = df[df['transcript_id'] == 'ENST00000618612'].sort_values(by=['transcript_id', \n",
    "                                                                                  'start'], ascending=False)"
   ]
  },
  {
   "cell_type": "code",
   "execution_count": 10,
   "metadata": {},
   "outputs": [
    {
     "data": {
      "text/html": [
       "<div>\n",
       "<style scoped>\n",
       "    .dataframe tbody tr th:only-of-type {\n",
       "        vertical-align: middle;\n",
       "    }\n",
       "\n",
       "    .dataframe tbody tr th {\n",
       "        vertical-align: top;\n",
       "    }\n",
       "\n",
       "    .dataframe thead th {\n",
       "        text-align: right;\n",
       "    }\n",
       "</style>\n",
       "<table border=\"1\" class=\"dataframe\">\n",
       "  <thead>\n",
       "    <tr style=\"text-align: right;\">\n",
       "      <th></th>\n",
       "      <th>transcript_id</th>\n",
       "      <th>feature</th>\n",
       "      <th>start</th>\n",
       "      <th>end</th>\n",
       "    </tr>\n",
       "  </thead>\n",
       "  <tbody>\n",
       "    <tr>\n",
       "      <th>5</th>\n",
       "      <td>ENST00000618612</td>\n",
       "      <td>start_codon</td>\n",
       "      <td>1392995</td>\n",
       "      <td>1392998</td>\n",
       "    </tr>\n",
       "    <tr>\n",
       "      <th>4</th>\n",
       "      <td>ENST00000618612</td>\n",
       "      <td>CDS</td>\n",
       "      <td>1392961</td>\n",
       "      <td>1392998</td>\n",
       "    </tr>\n",
       "    <tr>\n",
       "      <th>3</th>\n",
       "      <td>ENST00000618612</td>\n",
       "      <td>CDS</td>\n",
       "      <td>1392833</td>\n",
       "      <td>1392881</td>\n",
       "    </tr>\n",
       "    <tr>\n",
       "      <th>2</th>\n",
       "      <td>ENST00000618612</td>\n",
       "      <td>CDS</td>\n",
       "      <td>1372075</td>\n",
       "      <td>1372240</td>\n",
       "    </tr>\n",
       "    <tr>\n",
       "      <th>1</th>\n",
       "      <td>ENST00000618612</td>\n",
       "      <td>CDS</td>\n",
       "      <td>1370031</td>\n",
       "      <td>1370072</td>\n",
       "    </tr>\n",
       "    <tr>\n",
       "      <th>0</th>\n",
       "      <td>ENST00000618612</td>\n",
       "      <td>stop_codon</td>\n",
       "      <td>1370028</td>\n",
       "      <td>1370031</td>\n",
       "    </tr>\n",
       "  </tbody>\n",
       "</table>\n",
       "</div>"
      ],
      "text/plain": [
       "     transcript_id      feature    start      end\n",
       "5  ENST00000618612  start_codon  1392995  1392998\n",
       "4  ENST00000618612          CDS  1392961  1392998\n",
       "3  ENST00000618612          CDS  1392833  1392881\n",
       "2  ENST00000618612          CDS  1372075  1372240\n",
       "1  ENST00000618612          CDS  1370031  1370072\n",
       "0  ENST00000618612   stop_codon  1370028  1370031"
      ]
     },
     "execution_count": 10,
     "metadata": {},
     "output_type": "execute_result"
    }
   ],
   "source": [
    "df_ENST00000618612"
   ]
  },
  {
   "cell_type": "markdown",
   "metadata": {},
   "source": [
    " - izvuci startne i krajnje pozicije za sve **feature** u tabeli"
   ]
  },
  {
   "cell_type": "code",
   "execution_count": 11,
   "metadata": {},
   "outputs": [],
   "source": [
    "start = []\n",
    "end = []\n",
    "for index, row in df_ENST00000618612.iterrows():\n",
    "    if row['feature'] == 'CDS':\n",
    "        start.append(row['start'])\n",
    "        end.append(row['end'])"
   ]
  },
  {
   "cell_type": "code",
   "execution_count": 12,
   "metadata": {},
   "outputs": [
    {
     "data": {
      "text/plain": [
       "([1392961, 1392833, 1372075, 1370031], [1392998, 1392881, 1372240, 1370072])"
      ]
     },
     "execution_count": 12,
     "metadata": {},
     "output_type": "execute_result"
    }
   ],
   "source": [
    "start, end"
   ]
  },
  {
   "cell_type": "markdown",
   "metadata": {},
   "source": [
    " - ucitati chr20.fasta fajl koristeci f-ju *FastaFile* iz biblioteke pysam"
   ]
  },
  {
   "cell_type": "code",
   "execution_count": 13,
   "metadata": {},
   "outputs": [],
   "source": [
    "# reading human chr20 fasta\n",
    "chr20_fasta = pysam.FastaFile('/sbgenomics/project-files/chr20.fasta')"
   ]
  },
  {
   "cell_type": "code",
   "execution_count": 14,
   "metadata": {},
   "outputs": [],
   "source": [
    "# function that returns a reverse complement of the given sequence\n",
    "def revc(dna):\n",
    "    \"\"\"Reverse complement a DNA sequence.\"\"\"\n",
    "    revc = dna[::-1].translate(str.maketrans('ACGT','UGCA'))\n",
    "    return(revc)"
   ]
  },
  {
   "cell_type": "code",
   "execution_count": 15,
   "metadata": {},
   "outputs": [],
   "source": [
    "# function that translates rna to protein sequence\n",
    "def rna2prot_single(seq):\n",
    "    protein = ''\n",
    "    i = 0\n",
    "    protein1 = ''\n",
    "    while i <= len(seq)-3:\n",
    "            protein1 += codon_map[seq[i:i+3]]\n",
    "            i += 3\n",
    "    return protein1 "
   ]
  },
  {
   "cell_type": "code",
   "execution_count": 16,
   "metadata": {},
   "outputs": [],
   "source": [
    "# codon map for translation\n",
    "codon_map = {\"UUU\":\"F\", \"UUC\":\"F\", \"UUA\":\"L\", \"UUG\":\"L\",\n",
    "    \"UCU\":\"S\", \"UCC\":\"S\", \"UCA\":\"S\", \"UCG\":\"S\",\n",
    "    \"UAU\":\"Y\", \"UAC\":\"Y\", \"UAA\":\"STOP\", \"UAG\":\"STOP\",\n",
    "    \"UGU\":\"C\", \"UGC\":\"C\", \"UGA\":\"STOP\", \"UGG\":\"W\",\n",
    "    \"CUU\":\"L\", \"CUC\":\"L\", \"CUA\":\"L\", \"CUG\":\"L\",\n",
    "    \"CCU\":\"P\", \"CCC\":\"P\", \"CCA\":\"P\", \"CCG\":\"P\",\n",
    "    \"CAU\":\"H\", \"CAC\":\"H\", \"CAA\":\"Q\", \"CAG\":\"Q\",\n",
    "    \"CGU\":\"R\", \"CGC\":\"R\", \"CGA\":\"R\", \"CGG\":\"R\",\n",
    "    \"AUU\":\"I\", \"AUC\":\"I\", \"AUA\":\"I\", \"AUG\":\"M\",\n",
    "    \"ACU\":\"T\", \"ACC\":\"T\", \"ACA\":\"T\", \"ACG\":\"T\",\n",
    "    \"AAU\":\"N\", \"AAC\":\"N\", \"AAA\":\"K\", \"AAG\":\"K\",\n",
    "    \"AGU\":\"S\", \"AGC\":\"S\", \"AGA\":\"R\", \"AGG\":\"R\",\n",
    "    \"GUU\":\"V\", \"GUC\":\"V\", \"GUA\":\"V\", \"GUG\":\"V\",\n",
    "    \"GCU\":\"A\", \"GCC\":\"A\", \"GCA\":\"A\", \"GCG\":\"A\",\n",
    "    \"GAU\":\"D\", \"GAC\":\"D\", \"GAA\":\"E\", \"GAG\":\"E\",\n",
    "    \"GGU\":\"G\", \"GGC\":\"G\", \"GGA\":\"G\", \"GGG\":\"G\",}"
   ]
  },
  {
   "cell_type": "markdown",
   "metadata": {},
   "source": [
    " - koriscenjem rna2prot_single i revc f-ja pretvoriti sekvencu DNK u sekvencu aminokiselina"
   ]
  },
  {
   "cell_type": "code",
   "execution_count": 17,
   "metadata": {},
   "outputs": [],
   "source": [
    "peptides = []\n",
    "for i in range(len(start)):\n",
    "    peptides.append(rna2prot_single(revc(chr20_fasta.fetch('20', start[i], end[i]))))"
   ]
  },
  {
   "cell_type": "code",
   "execution_count": 18,
   "metadata": {},
   "outputs": [
    {
     "data": {
      "text/plain": [
       "'MGVQVETISPGDGAPSPSAARPAWCTTPMSVGQRAKLTISPDYAYGATGHPGIIPPHATLVFDVELLKLESTOPQEWPPPLAPCSWICHGGIWCLQTCA'"
      ]
     },
     "execution_count": 18,
     "metadata": {},
     "output_type": "execute_result"
    }
   ],
   "source": [
    "''.join(peptides)"
   ]
  }
 ],
 "metadata": {
  "kernelspec": {
   "display_name": "Python 3",
   "language": "python",
   "name": "python3"
  },
  "language_info": {
   "codemirror_mode": {
    "name": "ipython",
    "version": 3
   },
   "file_extension": ".py",
   "mimetype": "text/x-python",
   "name": "python",
   "nbconvert_exporter": "python",
   "pygments_lexer": "ipython3",
   "version": "3.7.3"
  }
 },
 "nbformat": 4,
 "nbformat_minor": 2
}
